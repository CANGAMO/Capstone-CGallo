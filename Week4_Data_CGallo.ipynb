{
 "cells": [
  {
   "cell_type": "markdown",
   "metadata": {
    "collapsed": true
   },
   "source": [
    "### NEIGBORHOOD RECOMMENDED TO OPEN AN ITALIAN RESTAURANT IN TORONTO"
   ]
  },
  {
   "cell_type": "markdown",
   "metadata": {},
   "source": [
    "### 2.- Description of the data and how it will be used"
   ]
  },
  {
   "cell_type": "markdown",
   "metadata": {},
   "source": [
    "#### 2.1.- Data"
   ]
  },
  {
   "cell_type": "markdown",
   "metadata": {},
   "source": [
    "Regarding to the data, the following information will be used in the project:\n",
    "\n",
    "1) https://en.wikipedia.org/wiki/List_of_postal_codes_of_Canada:_M - “List of Postal code of Canada: M”: Information related to all the neighborhoods in Toronto. \n"
   ]
  },
  {
   "cell_type": "markdown",
   "metadata": {},
   "source": [
    "![alt text](https://www.narcity.com/u/2018/10/15/bfb293b2fcf1f0247865ac9a8d8ac9a42ca99aa3.jpg_640xrel.jpg)"
   ]
  },
  {
   "cell_type": "markdown",
   "metadata": {},
   "source": [
    "2) https://cocl.us/Geospatial_data”: A csv file that contain all the geographical coordinates of the neighborhoods.\n",
    "\n",
    "3) https://en.m.wikipedia.org/wiki/Demographics_of_Toronto#Ethnic_diversityTo - “Demographics of Toronto”: Information about the distribution of population by their ethnicity. "
   ]
  },
  {
   "cell_type": "markdown",
   "metadata": {},
   "source": [
    "![alt text](https://external-preview.redd.it/NRlcVipouBgEhm5LG2FGMIeg85CQpKnC8vN8KAgezyI.jpg?width=960&crop=smart&auto=webp&s=9dc5cc0626307899ff6eb5f2773c46473a094cb7)"
   ]
  },
  {
   "cell_type": "markdown",
   "metadata": {},
   "source": [
    "4) https://developer.foursquare.com/docs - Foursquare API: Information about location and venues in Toronto"
   ]
  },
  {
   "cell_type": "markdown",
   "metadata": {},
   "source": [
    "![alt text](https://upload.wikimedia.org/wikipedia/commons/thumb/d/dc/Foursquare_logo.svg/375px-Foursquare_logo.svg.png)"
   ]
  },
  {
   "cell_type": "markdown",
   "metadata": {},
   "source": [
    "#### 2.2.- How data will be used"
   ]
  },
  {
   "cell_type": "markdown",
   "metadata": {},
   "source": [
    "From “List of Postal code of Canada: M” Wikipedia page, I will get the information of all the neighborhoods in Toronto. Through scraping on that page I will get data such as postal code, borough and the neighborhoods. Using the csv file from https://cocl.us/Geospatial_data” I will add geographical coordinates to those neighborhoods. \n",
    "\n",
    "From “Demographics of Toronto” Wikipedia page, I will scrap the distribution of population to identify neighborhoods which are densely populated with Italians. Using Foursquare's API, I will retrieve information about the venues in the neighborhoods of Toronto (names, categories and locations). After that I will focus on Italian Restaurant information extracted.\n",
    "\n",
    "In the exploratory analysis I will find a relationship between Neighborhood and Italian population and after that I will look for a relationship between Italian population and Italian restaurant. Finally I will apply a predictive modeling using K-means clustering to analyze each cluster found and give recommendations.\n"
   ]
  },
  {
   "cell_type": "code",
   "execution_count": null,
   "metadata": {},
   "outputs": [],
   "source": []
  }
 ],
 "metadata": {
  "kernelspec": {
   "display_name": "Python 3.6",
   "language": "python",
   "name": "python3"
  },
  "language_info": {
   "codemirror_mode": {
    "name": "ipython",
    "version": 3
   },
   "file_extension": ".py",
   "mimetype": "text/x-python",
   "name": "python",
   "nbconvert_exporter": "python",
   "pygments_lexer": "ipython3",
   "version": "3.6.8"
  }
 },
 "nbformat": 4,
 "nbformat_minor": 1
}
