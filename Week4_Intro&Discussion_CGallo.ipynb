{
 "cells": [
  {
   "cell_type": "markdown",
   "metadata": {
    "collapsed": true
   },
   "source": [
    "### NEIGBORHOOD RECOMMENDED TO OPEN AN ITALIAN RESTAURANT IN TORONTO"
   ]
  },
  {
   "cell_type": "markdown",
   "metadata": {},
   "source": [
    "### 1.-  Introduction & Discussion"
   ]
  },
  {
   "cell_type": "markdown",
   "metadata": {},
   "source": [
    "Toronto  is Canada’s largest city and is recognized as one of the most multicultural cities in the world. Toronto is the most populous city in Canada and the capital of Ontario province. Nowadays it is considered an international center of business and finance and it has varied cultural institutions, including museums and galleries, festivals and public events, national historic sites and sport activities. This city attract over 43 million tourists each year and is the place of the headquarters of Canada's five largest banks. While the majority of Torontonians speak English as their primary language, over 160 languages are spoken in the city."
   ]
  },
  {
   "cell_type": "markdown",
   "metadata": {},
   "source": [
    "![alt text](https://www.telegraph.co.uk/content/dam/Travel/Destinations/North%20America/Canada/Toronto---Overview---Cityscape.jpg?imwidth=1400)"
   ]
  },
  {
   "cell_type": "markdown",
   "metadata": {},
   "source": [
    "According to Forbes, powerful cities such as Toronto attract investment due to the size of their economy, their projected future prosperity, cost of living and quality of life. The city experiences four distinct seasons, with considerable variance in length. As a result of the rapid passage of weather systems the weather is variable from day to day in all seasons. Toronto encompasses a geographical area formerly administered by many separate municipalities. These municipalities have each developed a distinct history and identity over the years, and their names remain in common use among Torontonians. "
   ]
  },
  {
   "cell_type": "markdown",
   "metadata": {},
   "source": [
    "![alt text](https://www.toronto.ca/resources/neighbourhood_listing/img/hoodmap1.jpg)"
   ]
  },
  {
   "cell_type": "markdown",
   "metadata": {},
   "source": [
    "Since Toronto is one of the world’s top cities to invest in and for starting a company and has become an important destination for immigrants to Canada, where more tan 50% of the residents belong to an especific population group, this project will try to recommend which neighborhoods are more suitable to open an Italian restaurant. Besides, sinde acording to the data (2017) Italian is placed in the top 20 of ethnic origins in this city with almost 7% of the total population, it would be a great business idea to start a restaurant in certian neigborhoods that provide a higher profit."
   ]
  },
  {
   "cell_type": "markdown",
   "metadata": {},
   "source": [
    "![alt text](http://dontai.com/wp/wp-content/uploads/2012/03/TorStar-ethnic-enclave-600x430.jpg)"
   ]
  },
  {
   "cell_type": "code",
   "execution_count": null,
   "metadata": {},
   "outputs": [],
   "source": []
  }
 ],
 "metadata": {
  "kernelspec": {
   "display_name": "Python 3.6",
   "language": "python",
   "name": "python3"
  },
  "language_info": {
   "codemirror_mode": {
    "name": "ipython",
    "version": 3
   },
   "file_extension": ".py",
   "mimetype": "text/x-python",
   "name": "python",
   "nbconvert_exporter": "python",
   "pygments_lexer": "ipython3",
   "version": "3.6.8"
  }
 },
 "nbformat": 4,
 "nbformat_minor": 1
}
