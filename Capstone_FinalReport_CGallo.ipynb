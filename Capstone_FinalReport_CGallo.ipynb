{
 "cells": [
  {
   "cell_type": "markdown",
   "metadata": {
    "collapsed": true
   },
   "source": [
    "### FINAL REPORT - NEIGBORHOOD RECOMMENDED TO OPEN AN ITALIAN RESTAURANT IN TORONTO"
   ]
  },
  {
   "cell_type": "markdown",
   "metadata": {},
   "source": [
    "### 1.-  Introduction & Discussion"
   ]
  },
  {
   "cell_type": "markdown",
   "metadata": {},
   "source": [
    "Toronto is Canada’s largest city and is recognized as one of the most multicultural cities in the world. Toronto is the most populous city in Canada and the capital of Ontario province. Nowadays it is considered an international center of business and finance and it has varied cultural institutions, including museums and galleries, festivals and public events, national historic sites and sport activities. This city attract over 43 million tourists each year and is the place of the headquarters of Canada's five largest banks. While the majority of Torontonians speak English as their primary language, over 160 languages are spoken in the city."
   ]
  },
  {
   "cell_type": "markdown",
   "metadata": {},
   "source": [
    "![alt text](https://www.telegraph.co.uk/content/dam/Travel/Destinations/North%20America/Canada/Toronto---Overview---Cityscape.jpg?imwidth=1400)"
   ]
  },
  {
   "cell_type": "markdown",
   "metadata": {},
   "source": [
    "According to Forbes, powerful cities such as Toronto attract investment due to the size of their economy, their projected future prosperity, cost of living and quality of life. The city experiences four distinct seasons, with considerable variance in length. As a result of the rapid passage of weather systems the weather is variable from day to day in all seasons. Toronto encompasses a geographical area formerly administered by many separate municipalities. These municipalities have each developed a distinct history and identity over the years, and their names remain in common use among Torontonians."
   ]
  },
  {
   "cell_type": "markdown",
   "metadata": {},
   "source": [
    "![alt text](https://www.toronto.ca/resources/neighbourhood_listing/img/hoodmap1.jpg)"
   ]
  },
  {
   "cell_type": "markdown",
   "metadata": {},
   "source": [
    "Since Toronto is one of the world’s top cities to invest in and for starting a company and has become an important destination for immigrants to Canada, where more tan 50% of the residents belong to an especific population group, this project will try to recommend which neighborhoods are more suitable to open an Italian restaurant. Besides, sinde acording to the data (2017) Italian is placed in the top 20 of ethnic origins in this city with almost 7% of the total population, it would be a great business idea to start a restaurant in certian neigborhoods that provide a higher profit."
   ]
  },
  {
   "cell_type": "markdown",
   "metadata": {},
   "source": [
    "### 2.- Description of the data and how it will be used"
   ]
  },
  {
   "cell_type": "markdown",
   "metadata": {},
   "source": [
    "#### 2.1.- Data"
   ]
  },
  {
   "cell_type": "markdown",
   "metadata": {},
   "source": [
    "Regarding to the data, the following information will be used in the project:\n",
    "\n",
    "1) https://en.wikipedia.org/wiki/List_of_postal_codes_of_Canada:_M - “List of Postal code of Canada: M”: Information related to all the neighborhoods in Toronto\n"
   ]
  },
  {
   "cell_type": "markdown",
   "metadata": {},
   "source": [
    "![alt text](https://www.narcity.com/u/2018/10/15/bfb293b2fcf1f0247865ac9a8d8ac9a42ca99aa3.jpg_640xrel.jpg)"
   ]
  },
  {
   "cell_type": "markdown",
   "metadata": {},
   "source": [
    "2) https://cocl.us/Geospatial_data”: A csv file that contain all the geographical coordinates of the neighborhoods.\n",
    "\n",
    "3) https://en.m.wikipedia.org/wiki/Demographics_of_Toronto#Ethnic_diversityTo - “Demographics of Toronto”: Information about the distribution of population by their ethnicity. \n"
   ]
  },
  {
   "cell_type": "markdown",
   "metadata": {},
   "source": [
    "![alt text](https://external-preview.redd.it/NRlcVipouBgEhm5LG2FGMIeg85CQpKnC8vN8KAgezyI.jpg?width=960&crop=smart&auto=webp&s=9dc5cc0626307899ff6eb5f2773c46473a094cb7)"
   ]
  },
  {
   "cell_type": "markdown",
   "metadata": {},
   "source": [
    "4) https://developer.foursquare.com/docs - Foursquare API: Information about location and venues in Toronto"
   ]
  },
  {
   "cell_type": "markdown",
   "metadata": {},
   "source": [
    "![alt text](https://upload.wikimedia.org/wikipedia/commons/thumb/d/dc/Foursquare_logo.svg/375px-Foursquare_logo.svg.png)"
   ]
  },
  {
   "cell_type": "markdown",
   "metadata": {},
   "source": [
    "#### 2.2.- How data will be used"
   ]
  },
  {
   "cell_type": "markdown",
   "metadata": {},
   "source": [
    "From “List of Postal code of Canada: M” Wikipedia page, I will get the information of all the neighborhoods in Toronto. Through scraping on that page I will get data such as postal code, borough and the neighborhoods. Using the csv file from https://cocl.us/Geospatial_data” I will add geographical coordinates to those neighborhoods. \n",
    "\n",
    "From “Demographics of Toronto” Wikipedia page, I will scrap the distribution of population to identify neighborhoods which are densely populated with Italians. Using Foursquare's API, I will retrieve information about the venues in the neighborhoods of Toronto (names, categories and locations). After that I will focus on Italian Restaurant information extracted.\n",
    "\n",
    "In the exploratory analysis I will find a relationship between Neighborhood and Italian population and after that I will look for a relationship between Italian population and Italian restaurant. Finally I will apply a predictive modeling using K-means clustering to analyze each cluster found and give recommendations.\n"
   ]
  },
  {
   "cell_type": "markdown",
   "metadata": {},
   "source": [
    "### 3.- Methodology"
   ]
  },
  {
   "cell_type": "markdown",
   "metadata": {},
   "source": [
    "#### 3.1.- GETTING DATA & PREPROCESSING"
   ]
  },
  {
   "cell_type": "markdown",
   "metadata": {},
   "source": [
    "In this stage, the following steps were executed:\n",
    "   + The data referring to Toronto Neighborhoods was obtained by scraping the Wikipedia webpage: “List of Postal code of Canada: M”.\n",
    "   \n",
    "   \n",
    "   + Cells just with Borough assigned were processed and if a cell had a borough but a Not assigned neighborhood, then the neighborhood was the same as the borough\n",
    "   \n",
    "   \n",
    "   + Using the csv file: https://cocl.us/Geospatial_data”, the correponding coordinates (latitude & longitude) were assigned to each neighborhood\n",
    "   \n",
    "   \n",
    "   + Data related to ethnic distribution was obtained by scraping the Wikipedia webpage: \"Demographics of Toronto\". The information belongs to the ridings of:\n",
    "        + Toronto & East York\n",
    "        + North York\n",
    "        + Scarborough\n",
    "        + Etobicoke & York\n",
    "        \n",
    "        \n",
    "   + Using the Foursquare API, information about location and venues in Toronto was obtained. At this point the following was done:\n",
    "        + The different categories were retrived\n",
    "        + With get_category_type function, the json was cleaned up and coverted into a pandas dataframe\n",
    "        + Nearby venues were explored\n",
    "        + One hot encoding was performed to get dummies of venue category. \n",
    "        + Finally the mean of all venue groupby there neighborhoods were calculated."
   ]
  },
  {
   "cell_type": "markdown",
   "metadata": {},
   "source": [
    "#### 3.2.- EXPLORATORY DATA ANALYSIS"
   ]
  },
  {
   "cell_type": "markdown",
   "metadata": {},
   "source": [
    "In this stage, the following steps were executed:\n",
    "   + It was extracted the Neighborhood and Italian Restaurant column from dataframe obtained in the previous analysis\n",
    "   * A visualization was created showing the relationship between Neighborhood and Italian Restaurants"
   ]
  },
  {
   "cell_type": "markdown",
   "metadata": {},
   "source": [
    "![alt text](https://github.com/CANGAMO/Capstone-CGallo/blob/master/NvsIR.png?raw=true)"
   ]
  },
  {
   "cell_type": "markdown",
   "metadata": {},
   "source": [
    "   + Population tables with the ethnic percentage by neighborhood were merged\n",
    "   + The neighborhoods with highest Italian population percentage were picked out\n",
    "   + A dataframe with Italian ethnic percentage & riding was created.\n",
    "   + The next visualization shows the Italian Population vs Riding"
   ]
  },
  {
   "cell_type": "markdown",
   "metadata": {},
   "source": [
    "![alt text](https://github.com/CANGAMO/Capstone-CGallo/blob/master/IPvsR.png?raw=true)"
   ]
  },
  {
   "cell_type": "markdown",
   "metadata": {},
   "source": [
    "   + Since there are few ridings, I created a dataframe and fill with its respective neighborhood\n",
    "   + The dataframe that contains the Italian populations with the riding was merged with the dataframe tha contains information related to neighborhoods and ridings.\n",
    "   + Finally, it was obtained a relationship between Italian population and Italian restaurants"
   ]
  },
  {
   "cell_type": "markdown",
   "metadata": {},
   "source": [
    "#### 3.3.- MODELING K-MEANS"
   ]
  },
  {
   "cell_type": "markdown",
   "metadata": {},
   "source": [
    "![alt text](https://d2908q01vomqb2.cloudfront.net/f1f836cb4ea6efb2a0b1b99f41ad8b103eff4b59/2018/11/02/k-means-sagemaker-1.gif)"
   ]
  },
  {
   "cell_type": "markdown",
   "metadata": {},
   "source": [
    "In this stage, the following steps were executed:\n",
    "   + After using Distortion Score Elbow for KMeans Clustering for each K value, k = 6 was determined as the best value:"
   ]
  },
  {
   "cell_type": "markdown",
   "metadata": {},
   "source": [
    "![alt text](https://github.com/CANGAMO/Capstone-CGallo/blob/master/Elbow.png?raw=true)"
   ]
  },
  {
   "cell_type": "markdown",
   "metadata": {},
   "source": [
    "   + It was clustered the Toronto Neighborhood using K-Means (k = 6), and visualization is next:\n"
   ]
  },
  {
   "cell_type": "markdown",
   "metadata": {},
   "source": [
    "![alt text](https://github.com/CANGAMO/Capstone-CGallo/blob/master/Cluster.png?raw=true)"
   ]
  },
  {
   "cell_type": "markdown",
   "metadata": {},
   "source": [
    "   + Finally each cluster were evaluated"
   ]
  },
  {
   "cell_type": "markdown",
   "metadata": {},
   "source": [
    "### 4.- Results"
   ]
  },
  {
   "cell_type": "markdown",
   "metadata": {},
   "source": [
    "a) Regarding to the clusters it is possible to see:\n",
    "\n",
    "   + In Cluster 0 the neighborhoods have the smallest number of Italian restaurants. \n",
    "   + In Cluster 3 no one neighborhood is close to this centroid. \n",
    "   + In Cluster 2 is where more Italian restaurants exist. \n",
    "   + In Cluster 5 the restaurants are scattered throughout that neighborhood. \n",
    "   + In Cluster 1 is where the neighborhoods have a medium amount of Italian restaurants. \n",
    "   + In Cluster 4 is where the neighborhoods have a few amount of Italian restaurants.\n",
    "    \n",
    "b) Humber River-Black Creek, York Centre, York South-Weston and Etobicoke Centre are the ridings where more Italian population is present.\n",
    "\n",
    "c) Among others, Central Bay Street is the neighborhood where more Italian restaurants exist so it will not be an option as a place to open an Italian restaurant.\n",
    "\n",
    "d) The riding of Humber River—Black Creek include the neighbourhood of Humber Summit which has a considerable amount of Italian population is the ideal neighborhood to open a restaurant of the characteristics proposed since according to the cluster analysis performed, it has a very low concentration of Italian restaurants."
   ]
  },
  {
   "cell_type": "markdown",
   "metadata": {},
   "source": [
    "### 5.- Discussion"
   ]
  },
  {
   "cell_type": "markdown",
   "metadata": {},
   "source": [
    "After the analysis carried out, it can be conclusively concluded that Humber Summit is the neighborhood that would provide the greatest benefits when opening an Italian restaurant since it not only has a relatively high Italian population but also the concentration of Italian restaurants is significantly less than the other neighborhoods.\n",
    "Although the information is from previous years, it may contain errors and inaccuracies and that many of the data are not completely available on the Wikipedia website, this analysis can be an important reference when deciding to undertake with the opening of a Italian restaurant. In addition, this type of food is widely accepted by many people around the world which can definitely convince any entrepreneur that the option obtained after the analysis is the best."
   ]
  },
  {
   "cell_type": "markdown",
   "metadata": {},
   "source": [
    "### 6.- Conclusion"
   ]
  },
  {
   "cell_type": "markdown",
   "metadata": {},
   "source": [
    "During this analysis, there was an opportunity not only to put into practice what was learned, but additional research was also necessary. Ihad the chance to analyze information from different data sources and use the Foursquare API to meet the proposed objective. After this project, the idea of a real analysis becomes much clearer since it involves a lot of information that although it may contain errors, it can lead us to obtain very accurate results. It simply remains to deepen these analyzes since they are very useful when solving everyday problems."
   ]
  }
 ],
 "metadata": {
  "kernelspec": {
   "display_name": "Python 3.6",
   "language": "python",
   "name": "python3"
  },
  "language_info": {
   "codemirror_mode": {
    "name": "ipython",
    "version": 3
   },
   "file_extension": ".py",
   "mimetype": "text/x-python",
   "name": "python",
   "nbconvert_exporter": "python",
   "pygments_lexer": "ipython3",
   "version": "3.6.8"
  }
 },
 "nbformat": 4,
 "nbformat_minor": 1
}
